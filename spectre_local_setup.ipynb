{
 "cells": [
  {
   "cell_type": "code",
   "execution_count": null,
   "id": "c1a02e07",
   "metadata": {},
   "outputs": [],
   "source": [
    "!pip install torch torchvision torchaudio --index-url https://download.pytorch.org/whl/cu124"
   ]
  },
  {
   "cell_type": "code",
   "execution_count": null,
   "id": "273cee32",
   "metadata": {
    "execution": {
     "iopub.execute_input": "2024-10-28T22:07:13.618390Z",
     "iopub.status.busy": "2024-10-28T22:07:13.618061Z",
     "iopub.status.idle": "2024-10-28T22:18:17.592161Z",
     "shell.execute_reply": "2024-10-28T22:18:17.590857Z"
    },
    "papermill": {
     "duration": 663.993009,
     "end_time": "2024-10-28T22:18:17.594356",
     "exception": false,
     "start_time": "2024-10-28T22:07:13.601347",
     "status": "completed"
    },
    "tags": []
   },
   "outputs": [],
   "source": [
    "!pip install \"git+https://github.com/facebookresearch/pytorch3d.git\""
   ]
  },
  {
   "cell_type": "code",
   "execution_count": null,
   "id": "8ae7d6e3",
   "metadata": {},
   "outputs": [],
   "source": [
    "!pip install fvcore iopath scikit_image scipy kornia chumpy librosa av loguru tensorboard pytorch_lightning opencv-python phonemizer jiwer gdown yacs numpy==1.23.5 gradio"
   ]
  },
  {
   "cell_type": "code",
   "execution_count": null,
   "id": "eafbf660",
   "metadata": {
    "execution": {
     "iopub.execute_input": "2024-10-28T22:19:17.538995Z",
     "iopub.status.busy": "2024-10-28T22:19:17.538653Z",
     "iopub.status.idle": "2024-10-28T22:19:34.659055Z",
     "shell.execute_reply": "2024-10-28T22:19:34.657961Z"
    },
    "papermill": {
     "duration": 17.153546,
     "end_time": "2024-10-28T22:19:34.661315",
     "exception": false,
     "start_time": "2024-10-28T22:19:17.507769",
     "status": "completed"
    },
    "tags": []
   },
   "outputs": [],
   "source": [
    "!cd external/face_detection"
   ]
  },
  {
   "cell_type": "code",
   "execution_count": null,
   "id": "aa06d349",
   "metadata": {},
   "outputs": [],
   "source": [
    "!git lfs pull"
   ]
  },
  {
   "cell_type": "code",
   "execution_count": null,
   "id": "8ac3b6ba",
   "metadata": {},
   "outputs": [],
   "source": [
    "!pip install -e ."
   ]
  },
  {
   "cell_type": "code",
   "execution_count": null,
   "id": "2f7de273",
   "metadata": {},
   "outputs": [],
   "source": [
    "!cd external/face_alignment"
   ]
  },
  {
   "cell_type": "code",
   "execution_count": null,
   "id": "60a6223c",
   "metadata": {},
   "outputs": [],
   "source": [
    "!git lfs pull"
   ]
  },
  {
   "cell_type": "code",
   "execution_count": null,
   "id": "10f1dbf8",
   "metadata": {},
   "outputs": [],
   "source": [
    "!pip install -e ."
   ]
  },
  {
   "cell_type": "code",
   "execution_count": null,
   "id": "1a61d676",
   "metadata": {
    "execution": {
     "iopub.execute_input": "2024-10-28T22:20:06.951841Z",
     "iopub.status.busy": "2024-10-28T22:20:06.951456Z",
     "iopub.status.idle": "2024-10-28T22:20:08.041048Z",
     "shell.execute_reply": "2024-10-28T22:20:08.039839Z"
    },
    "papermill": {
     "duration": 1.128023,
     "end_time": "2024-10-28T22:20:08.044140",
     "exception": false,
     "start_time": "2024-10-28T22:20:06.916117",
     "status": "completed"
    },
    "tags": []
   },
   "outputs": [],
   "source": [
    "!python demo.py --input samples/MEAD/M003_level_1_disgusted_015.mp4 --audio"
   ]
  },
  {
   "cell_type": "code",
   "execution_count": null,
   "id": "30756e4b",
   "metadata": {},
   "outputs": [],
   "source": [
    "import gradio as gr\n",
    "import subprocess\n",
    "import os\n",
    "\n",
    "def process_video(input_video):\n",
    "    input_video_path = input_video\n",
    "\n",
    "    directory, file_name = os.path.split(input_video_path)\n",
    "    name, ext = os.path.splitext(file_name)\n",
    "\n",
    "    # Modify the file name\n",
    "    new_file_name = f\"{name}_grid{ext}\"\n",
    "    output_video_path = os.path.join(directory, new_file_name)\n",
    "\n",
    "    try:\n",
    "        # Execute command\n",
    "        command = [\"python\", \"demo.py\", \"--input\", input_video_path, \"--audio\"]\n",
    "        subprocess.run(command, check=True)\n",
    "        \n",
    "        # Check if the output file was created\n",
    "        if os.path.exists(output_video_path):\n",
    "            return output_video_path # Return the path to the output video\n",
    "        else:\n",
    "            return \"Error: Output video could not be generated.\"\n",
    "    except subprocess.CalledProcessError as e:\n",
    "        return f\"Error: {str(e)}\"\n",
    "\n",
    "demo = gr.Interface(\n",
    "    fn=process_video,\n",
    "    inputs=gr.Video(interactive=True),\n",
    "    outputs=gr.Video(format=\"mp4\"),  # Ensure output is treated as a video file path\n",
    "    title=\"Spectre Demo\",\n",
    "    description=\"Upload a video to Spectre, and view the output.\"\n",
    ")\n",
    "\n",
    "demo.launch(share=True)"
   ]
  }
 ],
 "metadata": {
  "kaggle": {
   "accelerator": "nvidiaTeslaT4",
   "dataSources": [
    {
     "isSourceIdPinned": true,
     "modelId": 131529,
     "modelInstanceId": 107182,
     "sourceId": 127302,
     "sourceType": "modelInstanceVersion"
    }
   ],
   "isGpuEnabled": true,
   "isInternetEnabled": true,
   "language": "python",
   "sourceType": "notebook"
  },
  "kernelspec": {
   "display_name": "test",
   "language": "python",
   "name": "python3"
  },
  "language_info": {
   "codemirror_mode": {
    "name": "ipython",
    "version": 3
   },
   "file_extension": ".py",
   "mimetype": "text/x-python",
   "name": "python",
   "nbconvert_exporter": "python",
   "pygments_lexer": "ipython3",
   "version": "3.10.14"
  },
  "papermill": {
   "default_parameters": {},
   "duration": 827.033771,
   "end_time": "2024-10-28T22:20:08.851257",
   "environment_variables": {},
   "exception": null,
   "input_path": "__notebook__.ipynb",
   "output_path": "__notebook__.ipynb",
   "parameters": {},
   "start_time": "2024-10-28T22:06:21.817486",
   "version": "2.6.0"
  }
 },
 "nbformat": 4,
 "nbformat_minor": 5
}
